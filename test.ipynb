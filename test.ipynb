{
 "cells": [
  {
   "cell_type": "code",
   "execution_count": 2,
   "id": "2adcf5579f2b4f3f",
   "metadata": {
    "ExecuteTime": {
     "end_time": "2023-10-11T15:30:50.092073Z",
     "start_time": "2023-10-11T15:30:45.083199Z"
    }
   },
   "outputs": [
    {
     "ename": "unable to resolve class time @ line 1, column 1.",
     "evalue": "unable to resolve class time @ line 1, column 1.",
     "output_type": "error",
     "traceback": [
      "\u001B[1;31munable to resolve class time @ line 1, column 1.\u001B[0;0m",
      "\u001B[1;31m   import time\u001B[0;0m",
      "\u001B[1;31m   ^\u001B[0;0m",
      "\u001B[1;31m\u001B[0;0m",
      "\u001B[1;31m1 error\u001B[0;0m",
      "\u001B[1;31m\u001B[0;0m",
      "\u001B[0;31m\tat com.twosigma.beakerx.groovy.evaluator.GroovyCodeRunner.call(GroovyCodeRunner.java:53)\u001B[0;0m",
      "\u001B[0;31m\tat com.twosigma.beakerx.groovy.evaluator.GroovyCodeRunner.call(GroovyCodeRunner.java:32)\u001B[0;0m"
     ]
    }
   ],
   "source": [
    "Thread.sleep(5000)"
   ]
  },
  {
   "cell_type": "code",
   "execution_count": 3,
   "id": "9160b8f0b233e44a",
   "metadata": {
    "ExecuteTime": {
     "end_time": "2023-10-11T15:30:56.493803Z",
     "start_time": "2023-10-11T15:30:51.484616Z"
    }
   },
   "outputs": [
    {
     "ename": "groovy.lang.MissingPropertyException",
     "evalue": " No such property",
     "output_type": "error",
     "traceback": [
      "\u001B[1;31mgroovy.lang.MissingPropertyException: No such property: time for class: script1697147862134\u001B[0;0m",
      "\u001B[1;31m\tat this cell line 1\u001B[0;0m",
      "\u001B[0;31m\tat com.twosigma.beakerx.groovy.evaluator.GroovyCodeRunner.runScript(GroovyCodeRunner.java:91)\u001B[0;0m",
      "\u001B[0;31m\tat com.twosigma.beakerx.groovy.evaluator.GroovyCodeRunner.call(GroovyCodeRunner.java:57)\u001B[0;0m",
      "\u001B[0;31m\tat com.twosigma.beakerx.groovy.evaluator.GroovyCodeRunner.call(GroovyCodeRunner.java:32)\u001B[0;0m"
     ]
    }
   ],
   "source": [
    "Thread.sleep(5000)"
   ]
  },
  {
   "cell_type": "code",
   "execution_count": 4,
   "id": "80d4a2cf320fb570",
   "metadata": {
    "ExecuteTime": {
     "end_time": "2023-10-11T15:31:01.500953Z",
     "start_time": "2023-10-11T15:30:56.495636Z"
    }
   },
   "outputs": [
    {
     "ename": "groovy.lang.MissingPropertyException",
     "evalue": " No such property",
     "output_type": "error",
     "traceback": [
      "\u001B[1;31mgroovy.lang.MissingPropertyException: No such property: time for class: script1697147862505\u001B[0;0m",
      "\u001B[1;31m\tat this cell line 1\u001B[0;0m",
      "\u001B[0;31m\tat com.twosigma.beakerx.groovy.evaluator.GroovyCodeRunner.runScript(GroovyCodeRunner.java:91)\u001B[0;0m",
      "\u001B[0;31m\tat com.twosigma.beakerx.groovy.evaluator.GroovyCodeRunner.call(GroovyCodeRunner.java:57)\u001B[0;0m",
      "\u001B[0;31m\tat com.twosigma.beakerx.groovy.evaluator.GroovyCodeRunner.call(GroovyCodeRunner.java:32)\u001B[0;0m"
     ]
    }
   ],
   "source": [
    "Thread.sleep(5000)"
   ]
  },
  {
   "cell_type": "code",
   "execution_count": 5,
   "id": "2e00dd152a6456dd",
   "metadata": {
    "ExecuteTime": {
     "end_time": "2023-10-11T15:31:06.512379Z",
     "start_time": "2023-10-11T15:31:01.501684Z"
    }
   },
   "outputs": [
    {
     "ename": "groovy.lang.MissingPropertyException",
     "evalue": " No such property",
     "output_type": "error",
     "traceback": [
      "\u001B[1;31mgroovy.lang.MissingPropertyException: No such property: time for class: script1697147862885\u001B[0;0m",
      "\u001B[1;31m\tat this cell line 1\u001B[0;0m",
      "\u001B[0;31m\tat com.twosigma.beakerx.groovy.evaluator.GroovyCodeRunner.runScript(GroovyCodeRunner.java:91)\u001B[0;0m",
      "\u001B[0;31m\tat com.twosigma.beakerx.groovy.evaluator.GroovyCodeRunner.call(GroovyCodeRunner.java:57)\u001B[0;0m",
      "\u001B[0;31m\tat com.twosigma.beakerx.groovy.evaluator.GroovyCodeRunner.call(GroovyCodeRunner.java:32)\u001B[0;0m"
     ]
    }
   ],
   "source": [
    "Thread.sleep(5000)"
   ]
  },
  {
   "cell_type": "code",
   "execution_count": 6,
   "id": "49f7c74ee70724f2",
   "metadata": {},
   "outputs": [
    {
     "name": "stdout",
     "output_type": "stream",
     "text": [
      "All done!"
     ]
    },
    {
     "data": {
      "text/plain": [
       "null"
      ]
     },
     "execution_count": 6,
     "metadata": {},
     "output_type": "execute_result"
    }
   ],
   "source": [
    "print(\"All done!\")"
   ]
  },
  {
   "cell_type": "code",
   "execution_count": null,
   "id": "f44074c6",
   "metadata": {},
   "outputs": [],
   "source": []
  }
 ],
 "metadata": {
  "kernelspec": {
   "display_name": "Groovy",
   "language": "groovy",
   "name": "groovy"
  },
  "language_info": {
   "codemirror_mode": "groovy",
   "file_extension": ".groovy",
   "mimetype": "",
   "name": "Groovy",
   "nbconverter_exporter": "",
   "version": "3.0.3"
  }
 },
 "nbformat": 4,
 "nbformat_minor": 5
}
